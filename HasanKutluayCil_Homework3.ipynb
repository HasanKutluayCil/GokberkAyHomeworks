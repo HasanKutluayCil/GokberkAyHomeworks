{
 "cells": [
  {
   "cell_type": "code",
   "execution_count": 4,
   "metadata": {},
   "outputs": [
    {
     "name": "stdout",
     "output_type": "stream",
     "text": [
      "Please choose one of this three number:1,2,3 \n",
      "1\n",
      "You will calculate hypotenuse of the triangle\n",
      "t:3\n",
      "y:4\n",
      "Hypotenuse: \n",
      " 5.0\n"
     ]
    }
   ],
   "source": [
    "x=float(input(\"Please choose one of this three number:1,2,3 \\n\"))\n",
    "if x>3: \n",
    "    print(\"Please restart the program\",'\\n')\n",
    "if x==1:\n",
    "        print(\"You will calculate hypotenuse of the triangle\")    \n",
    "        t = int(input(\"t:\"))\n",
    "        y = int(input(\"y:\"))\n",
    "        z = (t**2+y**2)\n",
    "        z = z**0.5\n",
    "        print(\"Hypotenuse: \\n\",z)\n",
    "        \n",
    "elif x==2:\n",
    "        m = int(input(\"Please enter a number: \"))\n",
    "        i = 0\n",
    "        while i < m:\n",
    "            i += 1\n",
    "            print(i)\n",
    "            \n",
    "elif x==3:\n",
    "        number1 = int(input(\"Enter a 1st number: \"))\n",
    "        number2 = int(input(\"Enter a 2nd number: \"))\n",
    "        number3 = int(input(\"Enter a 3rd number: \"))\n",
    "        number4 = int(input(\"Enter a 4th number: \"))\n",
    "        number5 = int(input(\"Enter a 5th number: \"))\n",
    "        number6 = int(input(\"Enter a 6th number: \"))\n",
    "        \n",
    "        print(' Your number set ,respectively :' , number1,number2,number3,number4,number5,number6)\n",
    "        result_of_arithmetic = (number1+number2+number3+number4+number5+number6)/6\n",
    "        print(' Your arithmetic mean is : ' , result_of_arithmetic)"
   ]
  },
  {
   "cell_type": "code",
   "execution_count": null,
   "metadata": {},
   "outputs": [],
   "source": []
  }
 ],
 "metadata": {
  "kernelspec": {
   "display_name": "Python 3",
   "language": "python",
   "name": "python3"
  },
  "language_info": {
   "codemirror_mode": {
    "name": "ipython",
    "version": 3
   },
   "file_extension": ".py",
   "mimetype": "text/x-python",
   "name": "python",
   "nbconvert_exporter": "python",
   "pygments_lexer": "ipython3",
   "version": "3.6.7"
  }
 },
 "nbformat": 4,
 "nbformat_minor": 2
}
