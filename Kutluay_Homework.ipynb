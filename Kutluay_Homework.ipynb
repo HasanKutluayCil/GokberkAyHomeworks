{
 "cells": [
  {
   "cell_type": "code",
   "execution_count": null,
   "metadata": {},
   "outputs": [],
   "source": [
    "a=int(input(\"a \"))\n",
    "b=int(input(\"b \"))\n",
    "c=int(input(\"c \"))\n",
    "\n",
    "delta=(b**2)-(4*a*c)\n",
    "x_1=((-b+delta**0.5)/2*a)\n",
    "x_2=((-b-delta**0.5)/2*a)\n",
    "print(\"1.Kok:\",x_1)\n",
    "print(\"2.Kok:\",x_2)"
   ]
  },
  {
   "cell_type": "code",
   "execution_count": null,
   "metadata": {},
   "outputs": [],
   "source": []
  }
 ],
 "metadata": {
  "kernelspec": {
   "display_name": "Python 3",
   "language": "python",
   "name": "python3"
  },
  "language_info": {
   "codemirror_mode": {
    "name": "ipython",
    "version": 3
   },
   "file_extension": ".py",
   "mimetype": "text/x-python",
   "name": "python",
   "nbconvert_exporter": "python",
   "pygments_lexer": "ipython3",
   "version": "3.6.7"
  }
 },
 "nbformat": 4,
 "nbformat_minor": 2
}
